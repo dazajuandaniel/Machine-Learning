{
 "cells": [
  {
   "cell_type": "markdown",
   "metadata": {},
   "source": [
    "# Using Naive Bayes to Determine Twitter Sentiment\n",
    "As a project for my Knowledge Technologies class I was required to analyze a Twitter set and try to determine the sentiment of the tweets.\n",
    "\n",
    "The dataset contained over 30K labeled tweets. The scope of this project does not include feature engineering/selection so it was ommited. The main goal was to analyze the results of Naive Bayes via its main metrics."
   ]
  },
  {
   "cell_type": "markdown",
   "metadata": {},
   "source": [
    "## Import required libraries"
   ]
  },
  {
   "cell_type": "code",
   "execution_count": 1,
   "metadata": {
    "collapsed": true
   },
   "outputs": [],
   "source": [
    "import numpy as np\n",
    "import pandas as pd\n",
    "\n",
    "from sklearn.naive_bayes import GaussianNB, MultinomialNB, BernoulliNB\n",
    "from sklearn import metrics\n",
    "from sklearn.metrics import confusion_matrix, roc_curve\n",
    "import matplotlib.pyplot as plt\n",
    "%matplotlib inline  "
   ]
  },
  {
   "cell_type": "code",
   "execution_count": 2,
   "metadata": {
    "collapsed": true
   },
   "outputs": [],
   "source": [
    "from main_metrics import main_metrics"
   ]
  },
  {
   "cell_type": "markdown",
   "metadata": {},
   "source": [
    "Load the data to manipulate it"
   ]
  },
  {
   "cell_type": "code",
   "execution_count": 3,
   "metadata": {},
   "outputs": [],
   "source": [
    "train=pd.read_csv('path/to/file')\n",
    "dev=pd.read_csv('path/to/file')"
   ]
  },
  {
   "cell_type": "markdown",
   "metadata": {},
   "source": [
    "Let's have a quick look at the data"
   ]
  },
  {
   "cell_type": "code",
   "execution_count": 4,
   "metadata": {},
   "outputs": [
    {
     "data": {
      "text/html": [
       "<div>\n",
       "<style>\n",
       "    .dataframe thead tr:only-child th {\n",
       "        text-align: right;\n",
       "    }\n",
       "\n",
       "    .dataframe thead th {\n",
       "        text-align: left;\n",
       "    }\n",
       "\n",
       "    .dataframe tbody tr th {\n",
       "        vertical-align: top;\n",
       "    }\n",
       "</style>\n",
       "<table border=\"1\" class=\"dataframe\">\n",
       "  <thead>\n",
       "    <tr style=\"text-align: right;\">\n",
       "      <th></th>\n",
       "      <th>id</th>\n",
       "      <th>a</th>\n",
       "      <th>amazing</th>\n",
       "      <th>antman</th>\n",
       "      <th>are</th>\n",
       "      <th>at</th>\n",
       "      <th>awesome</th>\n",
       "      <th>best</th>\n",
       "      <th>birthday</th>\n",
       "      <th>cant</th>\n",
       "      <th>...</th>\n",
       "      <th>see</th>\n",
       "      <th>shit</th>\n",
       "      <th>so</th>\n",
       "      <th>stupid</th>\n",
       "      <th>supremacists</th>\n",
       "      <th>th</th>\n",
       "      <th>they</th>\n",
       "      <th>tomorrow</th>\n",
       "      <th>trump</th>\n",
       "      <th>sentiment</th>\n",
       "    </tr>\n",
       "  </thead>\n",
       "  <tbody>\n",
       "    <tr>\n",
       "      <th>0</th>\n",
       "      <td>8.023340e+17</td>\n",
       "      <td>1</td>\n",
       "      <td>0</td>\n",
       "      <td>0</td>\n",
       "      <td>0</td>\n",
       "      <td>0</td>\n",
       "      <td>0</td>\n",
       "      <td>0</td>\n",
       "      <td>0</td>\n",
       "      <td>0</td>\n",
       "      <td>...</td>\n",
       "      <td>0</td>\n",
       "      <td>0</td>\n",
       "      <td>0</td>\n",
       "      <td>0</td>\n",
       "      <td>0</td>\n",
       "      <td>0</td>\n",
       "      <td>0</td>\n",
       "      <td>0</td>\n",
       "      <td>0</td>\n",
       "      <td>negative</td>\n",
       "    </tr>\n",
       "    <tr>\n",
       "      <th>1</th>\n",
       "      <td>6.247650e+17</td>\n",
       "      <td>0</td>\n",
       "      <td>0</td>\n",
       "      <td>0</td>\n",
       "      <td>1</td>\n",
       "      <td>0</td>\n",
       "      <td>0</td>\n",
       "      <td>0</td>\n",
       "      <td>0</td>\n",
       "      <td>0</td>\n",
       "      <td>...</td>\n",
       "      <td>0</td>\n",
       "      <td>0</td>\n",
       "      <td>0</td>\n",
       "      <td>0</td>\n",
       "      <td>0</td>\n",
       "      <td>0</td>\n",
       "      <td>0</td>\n",
       "      <td>0</td>\n",
       "      <td>0</td>\n",
       "      <td>positive</td>\n",
       "    </tr>\n",
       "    <tr>\n",
       "      <th>2</th>\n",
       "      <td>8.055830e+17</td>\n",
       "      <td>0</td>\n",
       "      <td>0</td>\n",
       "      <td>0</td>\n",
       "      <td>0</td>\n",
       "      <td>0</td>\n",
       "      <td>0</td>\n",
       "      <td>0</td>\n",
       "      <td>0</td>\n",
       "      <td>0</td>\n",
       "      <td>...</td>\n",
       "      <td>0</td>\n",
       "      <td>0</td>\n",
       "      <td>0</td>\n",
       "      <td>0</td>\n",
       "      <td>0</td>\n",
       "      <td>0</td>\n",
       "      <td>0</td>\n",
       "      <td>0</td>\n",
       "      <td>0</td>\n",
       "      <td>neutral</td>\n",
       "    </tr>\n",
       "    <tr>\n",
       "      <th>3</th>\n",
       "      <td>6.374800e+17</td>\n",
       "      <td>0</td>\n",
       "      <td>0</td>\n",
       "      <td>0</td>\n",
       "      <td>0</td>\n",
       "      <td>0</td>\n",
       "      <td>0</td>\n",
       "      <td>0</td>\n",
       "      <td>0</td>\n",
       "      <td>0</td>\n",
       "      <td>...</td>\n",
       "      <td>1</td>\n",
       "      <td>0</td>\n",
       "      <td>0</td>\n",
       "      <td>0</td>\n",
       "      <td>0</td>\n",
       "      <td>0</td>\n",
       "      <td>0</td>\n",
       "      <td>1</td>\n",
       "      <td>0</td>\n",
       "      <td>positive</td>\n",
       "    </tr>\n",
       "    <tr>\n",
       "      <th>4</th>\n",
       "      <td>6.410960e+17</td>\n",
       "      <td>0</td>\n",
       "      <td>0</td>\n",
       "      <td>0</td>\n",
       "      <td>0</td>\n",
       "      <td>0</td>\n",
       "      <td>0</td>\n",
       "      <td>0</td>\n",
       "      <td>0</td>\n",
       "      <td>0</td>\n",
       "      <td>...</td>\n",
       "      <td>0</td>\n",
       "      <td>0</td>\n",
       "      <td>0</td>\n",
       "      <td>0</td>\n",
       "      <td>0</td>\n",
       "      <td>1</td>\n",
       "      <td>0</td>\n",
       "      <td>0</td>\n",
       "      <td>0</td>\n",
       "      <td>neutral</td>\n",
       "    </tr>\n",
       "  </tbody>\n",
       "</table>\n",
       "<p>5 rows × 48 columns</p>\n",
       "</div>"
      ],
      "text/plain": [
       "             id  a  amazing  antman  are  at  awesome  best  birthday  cant  \\\n",
       "0  8.023340e+17  1        0       0    0   0        0     0         0     0   \n",
       "1  6.247650e+17  0        0       0    1   0        0     0         0     0   \n",
       "2  8.055830e+17  0        0       0    0   0        0     0         0     0   \n",
       "3  6.374800e+17  0        0       0    0   0        0     0         0     0   \n",
       "4  6.410960e+17  0        0       0    0   0        0     0         0     0   \n",
       "\n",
       "     ...      see  shit  so  stupid  supremacists  th  they  tomorrow  trump  \\\n",
       "0    ...        0     0   0       0             0   0     0         0      0   \n",
       "1    ...        0     0   0       0             0   0     0         0      0   \n",
       "2    ...        0     0   0       0             0   0     0         0      0   \n",
       "3    ...        1     0   0       0             0   0     0         1      0   \n",
       "4    ...        0     0   0       0             0   1     0         0      0   \n",
       "\n",
       "   sentiment  \n",
       "0   negative  \n",
       "1   positive  \n",
       "2    neutral  \n",
       "3   positive  \n",
       "4    neutral  \n",
       "\n",
       "[5 rows x 48 columns]"
      ]
     },
     "execution_count": 4,
     "metadata": {},
     "output_type": "execute_result"
    }
   ],
   "source": [
    "train.head()"
   ]
  },
  {
   "cell_type": "markdown",
   "metadata": {},
   "source": [
    "Now we need to use separate the labels from the data as well as remove the \"id\" column"
   ]
  },
  {
   "cell_type": "code",
   "execution_count": 5,
   "metadata": {},
   "outputs": [
    {
     "data": {
      "text/html": [
       "<div>\n",
       "<style>\n",
       "    .dataframe thead tr:only-child th {\n",
       "        text-align: right;\n",
       "    }\n",
       "\n",
       "    .dataframe thead th {\n",
       "        text-align: left;\n",
       "    }\n",
       "\n",
       "    .dataframe tbody tr th {\n",
       "        vertical-align: top;\n",
       "    }\n",
       "</style>\n",
       "<table border=\"1\" class=\"dataframe\">\n",
       "  <thead>\n",
       "    <tr style=\"text-align: right;\">\n",
       "      <th></th>\n",
       "      <th>a</th>\n",
       "      <th>amazing</th>\n",
       "      <th>antman</th>\n",
       "      <th>are</th>\n",
       "      <th>at</th>\n",
       "      <th>awesome</th>\n",
       "      <th>best</th>\n",
       "      <th>birthday</th>\n",
       "      <th>cant</th>\n",
       "      <th>cream</th>\n",
       "      <th>...</th>\n",
       "      <th>racist</th>\n",
       "      <th>see</th>\n",
       "      <th>shit</th>\n",
       "      <th>so</th>\n",
       "      <th>stupid</th>\n",
       "      <th>supremacists</th>\n",
       "      <th>th</th>\n",
       "      <th>they</th>\n",
       "      <th>tomorrow</th>\n",
       "      <th>trump</th>\n",
       "    </tr>\n",
       "  </thead>\n",
       "  <tbody>\n",
       "    <tr>\n",
       "      <th>0</th>\n",
       "      <td>1</td>\n",
       "      <td>0</td>\n",
       "      <td>0</td>\n",
       "      <td>0</td>\n",
       "      <td>0</td>\n",
       "      <td>0</td>\n",
       "      <td>0</td>\n",
       "      <td>0</td>\n",
       "      <td>0</td>\n",
       "      <td>0</td>\n",
       "      <td>...</td>\n",
       "      <td>0</td>\n",
       "      <td>0</td>\n",
       "      <td>0</td>\n",
       "      <td>0</td>\n",
       "      <td>0</td>\n",
       "      <td>0</td>\n",
       "      <td>0</td>\n",
       "      <td>0</td>\n",
       "      <td>0</td>\n",
       "      <td>0</td>\n",
       "    </tr>\n",
       "    <tr>\n",
       "      <th>1</th>\n",
       "      <td>0</td>\n",
       "      <td>0</td>\n",
       "      <td>0</td>\n",
       "      <td>1</td>\n",
       "      <td>0</td>\n",
       "      <td>0</td>\n",
       "      <td>0</td>\n",
       "      <td>0</td>\n",
       "      <td>0</td>\n",
       "      <td>0</td>\n",
       "      <td>...</td>\n",
       "      <td>0</td>\n",
       "      <td>0</td>\n",
       "      <td>0</td>\n",
       "      <td>0</td>\n",
       "      <td>0</td>\n",
       "      <td>0</td>\n",
       "      <td>0</td>\n",
       "      <td>0</td>\n",
       "      <td>0</td>\n",
       "      <td>0</td>\n",
       "    </tr>\n",
       "    <tr>\n",
       "      <th>2</th>\n",
       "      <td>0</td>\n",
       "      <td>0</td>\n",
       "      <td>0</td>\n",
       "      <td>0</td>\n",
       "      <td>0</td>\n",
       "      <td>0</td>\n",
       "      <td>0</td>\n",
       "      <td>0</td>\n",
       "      <td>0</td>\n",
       "      <td>0</td>\n",
       "      <td>...</td>\n",
       "      <td>0</td>\n",
       "      <td>0</td>\n",
       "      <td>0</td>\n",
       "      <td>0</td>\n",
       "      <td>0</td>\n",
       "      <td>0</td>\n",
       "      <td>0</td>\n",
       "      <td>0</td>\n",
       "      <td>0</td>\n",
       "      <td>0</td>\n",
       "    </tr>\n",
       "    <tr>\n",
       "      <th>3</th>\n",
       "      <td>0</td>\n",
       "      <td>0</td>\n",
       "      <td>0</td>\n",
       "      <td>0</td>\n",
       "      <td>0</td>\n",
       "      <td>0</td>\n",
       "      <td>0</td>\n",
       "      <td>0</td>\n",
       "      <td>0</td>\n",
       "      <td>0</td>\n",
       "      <td>...</td>\n",
       "      <td>0</td>\n",
       "      <td>1</td>\n",
       "      <td>0</td>\n",
       "      <td>0</td>\n",
       "      <td>0</td>\n",
       "      <td>0</td>\n",
       "      <td>0</td>\n",
       "      <td>0</td>\n",
       "      <td>1</td>\n",
       "      <td>0</td>\n",
       "    </tr>\n",
       "    <tr>\n",
       "      <th>4</th>\n",
       "      <td>0</td>\n",
       "      <td>0</td>\n",
       "      <td>0</td>\n",
       "      <td>0</td>\n",
       "      <td>0</td>\n",
       "      <td>0</td>\n",
       "      <td>0</td>\n",
       "      <td>0</td>\n",
       "      <td>0</td>\n",
       "      <td>0</td>\n",
       "      <td>...</td>\n",
       "      <td>0</td>\n",
       "      <td>0</td>\n",
       "      <td>0</td>\n",
       "      <td>0</td>\n",
       "      <td>0</td>\n",
       "      <td>0</td>\n",
       "      <td>1</td>\n",
       "      <td>0</td>\n",
       "      <td>0</td>\n",
       "      <td>0</td>\n",
       "    </tr>\n",
       "  </tbody>\n",
       "</table>\n",
       "<p>5 rows × 46 columns</p>\n",
       "</div>"
      ],
      "text/plain": [
       "   a  amazing  antman  are  at  awesome  best  birthday  cant  cream  ...    \\\n",
       "0  1        0       0    0   0        0     0         0     0      0  ...     \n",
       "1  0        0       0    1   0        0     0         0     0      0  ...     \n",
       "2  0        0       0    0   0        0     0         0     0      0  ...     \n",
       "3  0        0       0    0   0        0     0         0     0      0  ...     \n",
       "4  0        0       0    0   0        0     0         0     0      0  ...     \n",
       "\n",
       "   racist  see  shit  so  stupid  supremacists  th  they  tomorrow  trump  \n",
       "0       0    0     0   0       0             0   0     0         0      0  \n",
       "1       0    0     0   0       0             0   0     0         0      0  \n",
       "2       0    0     0   0       0             0   0     0         0      0  \n",
       "3       0    1     0   0       0             0   0     0         1      0  \n",
       "4       0    0     0   0       0             0   1     0         0      0  \n",
       "\n",
       "[5 rows x 46 columns]"
      ]
     },
     "execution_count": 5,
     "metadata": {},
     "output_type": "execute_result"
    }
   ],
   "source": [
    "train_data=train[train.columns[1:-1]]\n",
    "train_target=train[train.columns[-1]]\n",
    "train_data.head()"
   ]
  },
  {
   "cell_type": "code",
   "execution_count": 6,
   "metadata": {},
   "outputs": [
    {
     "data": {
      "text/plain": [
       "0     neutral\n",
       "1     neutral\n",
       "2    positive\n",
       "3     neutral\n",
       "4    positive\n",
       "Name: sentiment, dtype: object"
      ]
     },
     "execution_count": 6,
     "metadata": {},
     "output_type": "execute_result"
    }
   ],
   "source": [
    "dev_data=dev[dev.columns[1:-1]]\n",
    "dev_target=dev[dev.columns[-1]]\n",
    "dev_target.head()"
   ]
  },
  {
   "cell_type": "markdown",
   "metadata": {},
   "source": [
    "We create the model leveragin the power of Scikit-learn"
   ]
  },
  {
   "cell_type": "code",
   "execution_count": 7,
   "metadata": {
    "collapsed": true
   },
   "outputs": [],
   "source": [
    "gnb = GaussianNB(priors=None)\n",
    "model_naives=gnb.fit(train_data, train_target)\n",
    "predictions_naives=model_naives.predict(dev_data)"
   ]
  },
  {
   "cell_type": "code",
   "execution_count": 8,
   "metadata": {},
   "outputs": [
    {
     "name": "stdout",
     "output_type": "stream",
     "text": [
      "[[ 874   48  566]\n",
      " [ 188  312  538]\n",
      " [ 629  226 1545]]\n"
     ]
    }
   ],
   "source": [
    "cm=confusion_matrix(dev_target,predictions_naives,labels=['positive','negative','neutral'])\n",
    "print cm"
   ]
  },
  {
   "cell_type": "code",
   "execution_count": 9,
   "metadata": {},
   "outputs": [
    {
     "data": {
      "text/html": [
       "<div>\n",
       "<style>\n",
       "    .dataframe thead tr:only-child th {\n",
       "        text-align: right;\n",
       "    }\n",
       "\n",
       "    .dataframe thead th {\n",
       "        text-align: left;\n",
       "    }\n",
       "\n",
       "    .dataframe tbody tr th {\n",
       "        vertical-align: top;\n",
       "    }\n",
       "</style>\n",
       "<table border=\"1\" class=\"dataframe\">\n",
       "  <thead>\n",
       "    <tr style=\"text-align: right;\">\n",
       "      <th></th>\n",
       "      <th>negative</th>\n",
       "      <th>neutral</th>\n",
       "      <th>positive</th>\n",
       "    </tr>\n",
       "  </thead>\n",
       "  <tbody>\n",
       "    <tr>\n",
       "      <th>FP</th>\n",
       "      <td>274.000000</td>\n",
       "      <td>1104.000000</td>\n",
       "      <td>817.000000</td>\n",
       "    </tr>\n",
       "    <tr>\n",
       "      <th>FN</th>\n",
       "      <td>726.000000</td>\n",
       "      <td>855.000000</td>\n",
       "      <td>614.000000</td>\n",
       "    </tr>\n",
       "    <tr>\n",
       "      <th>TP</th>\n",
       "      <td>312.000000</td>\n",
       "      <td>1545.000000</td>\n",
       "      <td>874.000000</td>\n",
       "    </tr>\n",
       "    <tr>\n",
       "      <th>TN</th>\n",
       "      <td>3614.000000</td>\n",
       "      <td>1422.000000</td>\n",
       "      <td>2621.000000</td>\n",
       "    </tr>\n",
       "    <tr>\n",
       "      <th>TPR</th>\n",
       "      <td>0.300578</td>\n",
       "      <td>0.643750</td>\n",
       "      <td>0.587366</td>\n",
       "    </tr>\n",
       "    <tr>\n",
       "      <th>TNR</th>\n",
       "      <td>0.929527</td>\n",
       "      <td>0.562945</td>\n",
       "      <td>0.762362</td>\n",
       "    </tr>\n",
       "    <tr>\n",
       "      <th>PPV</th>\n",
       "      <td>0.532423</td>\n",
       "      <td>0.583239</td>\n",
       "      <td>0.516854</td>\n",
       "    </tr>\n",
       "    <tr>\n",
       "      <th>NPV</th>\n",
       "      <td>0.832719</td>\n",
       "      <td>0.624506</td>\n",
       "      <td>0.810201</td>\n",
       "    </tr>\n",
       "    <tr>\n",
       "      <th>FPR</th>\n",
       "      <td>0.070473</td>\n",
       "      <td>0.437055</td>\n",
       "      <td>0.237638</td>\n",
       "    </tr>\n",
       "    <tr>\n",
       "      <th>FNR</th>\n",
       "      <td>0.699422</td>\n",
       "      <td>0.356250</td>\n",
       "      <td>0.412634</td>\n",
       "    </tr>\n",
       "    <tr>\n",
       "      <th>FDR</th>\n",
       "      <td>0.467577</td>\n",
       "      <td>0.416761</td>\n",
       "      <td>0.483146</td>\n",
       "    </tr>\n",
       "    <tr>\n",
       "      <th>ACC</th>\n",
       "      <td>0.796996</td>\n",
       "      <td>0.602314</td>\n",
       "      <td>0.709501</td>\n",
       "    </tr>\n",
       "  </tbody>\n",
       "</table>\n",
       "</div>"
      ],
      "text/plain": [
       "        negative      neutral     positive\n",
       "FP    274.000000  1104.000000   817.000000\n",
       "FN    726.000000   855.000000   614.000000\n",
       "TP    312.000000  1545.000000   874.000000\n",
       "TN   3614.000000  1422.000000  2621.000000\n",
       "TPR     0.300578     0.643750     0.587366\n",
       "TNR     0.929527     0.562945     0.762362\n",
       "PPV     0.532423     0.583239     0.516854\n",
       "NPV     0.832719     0.624506     0.810201\n",
       "FPR     0.070473     0.437055     0.237638\n",
       "FNR     0.699422     0.356250     0.412634\n",
       "FDR     0.467577     0.416761     0.483146\n",
       "ACC     0.796996     0.602314     0.709501"
      ]
     },
     "execution_count": 9,
     "metadata": {},
     "output_type": "execute_result"
    }
   ],
   "source": [
    "df=main_metrics(cm,['positive','negative','neutral'])\n",
    "df"
   ]
  },
  {
   "cell_type": "markdown",
   "metadata": {},
   "source": [
    "Although the overall accuracy is not a very good measure of the effectiveness of the classifier, it does provide some initial information about the overall result."
   ]
  },
  {
   "cell_type": "code",
   "execution_count": 10,
   "metadata": {},
   "outputs": [
    {
     "name": "stdout",
     "output_type": "stream",
     "text": [
      "55%\n"
     ]
    }
   ],
   "source": [
    "accuracy=(dev_target == predictions_naives).sum()/float(len(dev_target))*100\n",
    "print \"{0:.00f}%\".format(accuracy)"
   ]
  },
  {
   "cell_type": "code",
   "execution_count": 11,
   "metadata": {
    "collapsed": true
   },
   "outputs": [],
   "source": [
    "def labels(x):\n",
    "    if x=='positive':\n",
    "        return 1\n",
    "    elif x=='negative':\n",
    "        return -1\n",
    "    else:\n",
    "        return 0"
   ]
  },
  {
   "cell_type": "code",
   "execution_count": 12,
   "metadata": {},
   "outputs": [],
   "source": [
    "dev_targ_lbls=[]\n",
    "y_pred_lbls=[]\n",
    "for i in range(len(dev_target)):\n",
    "    dev_targ_lbls.append(labels(dev_target[i]))\n",
    "    y_pred_lbls.append(labels(predictions_naives[i]))"
   ]
  },
  {
   "cell_type": "code",
   "execution_count": 13,
   "metadata": {},
   "outputs": [
    {
     "data": {
      "image/png": "[encoded data removed]",
      "text/plain": [
       "<matplotlib.figure.Figure at 0xbea8eb8>"
      ]
     },
     "metadata": {},
     "output_type": "display_data"
    },
    {
     "name": "stdout",
     "output_type": "stream",
     "text": [
      "AUC 69%\n"
     ]
    }
   ],
   "source": [
    "fpr_naive_pos, tpr_naive_pos, thresholds_naive_pos = roc_curve(dev_targ_lbls, y_pred_lbls, pos_label=1)\n",
    "plt.plot(fpr_naive_pos, tpr_naive_pos)\n",
    "plt.ylabel('True Positive Rate')\n",
    "plt.xlabel('False Positive Rate')\n",
    "plt.title('Positive Class ROC Curve')\n",
    "plt.show()\n",
    "print \"AUC\",\"{0:.00f}%\".format(metrics.auc(fpr_naive_pos, tpr_naive_pos)*100)"
   ]
  },
  {
   "cell_type": "code",
   "execution_count": 14,
   "metadata": {},
   "outputs": [
    {
     "data": {
      "image/png": "[encoded data removed]",
      "text/plain": [
       "<matplotlib.figure.Figure at 0xbddef60>"
      ]
     },
     "metadata": {},
     "output_type": "display_data"
    },
    {
     "name": "stdout",
     "output_type": "stream",
     "text": [
      "AUC 45%\n"
     ]
    }
   ],
   "source": [
    "fpr_naive_neu, tpr_naive_neu, thresholds_naive_pos = roc_curve(dev_targ_lbls, y_pred_lbls, pos_label=0)\n",
    "plt.plot(fpr_naive_neu, tpr_naive_neu)\n",
    "plt.ylabel('True Positive Rate')\n",
    "plt.xlabel('False Positive Rate')\n",
    "plt.title('Neutral Class ROC Curve')\n",
    "plt.show()\n",
    "print \"AUC\",\"{0:.00f}%\".format(metrics.auc(fpr_naive_neu, tpr_naive_neu)*100)"
   ]
  },
  {
   "cell_type": "code",
   "execution_count": 15,
   "metadata": {},
   "outputs": [
    {
     "data": {
      "image/png": "[encoded data removed]",
      "text/plain": [
       "<matplotlib.figure.Figure at 0xc7ea400>"
      ]
     },
     "metadata": {},
     "output_type": "display_data"
    },
    {
     "name": "stdout",
     "output_type": "stream",
     "text": [
      "AUC 33%\n"
     ]
    }
   ],
   "source": [
    "fpr_naive_neg, tpr_naive_neg, thresholds_naive_pos = roc_curve(dev_targ_lbls, y_pred_lbls, pos_label=-1)\n",
    "plt.plot(fpr_naive_neg, tpr_naive_neg)\n",
    "plt.ylabel('True Positive Rate')\n",
    "plt.xlabel('False Positive Rate')\n",
    "plt.title('Negative Class ROC Curve')\n",
    "plt.show()\n",
    "print \"AUC\",\"{0:.00f}%\".format(metrics.auc(fpr_naive_neg, tpr_naive_neg)*100)"
   ]
  },
  {
   "cell_type": "code",
   "execution_count": 16,
   "metadata": {
    "collapsed": true
   },
   "outputs": [],
   "source": [
    "download=pd.DataFrame(predictions_naives)\n",
    "download.to_csv(\"Naive.csv\")"
   ]
  }
 ],
 "metadata": {
  "kernelspec": {
   "display_name": "Python 2",
   "language": "python",
   "name": "python2"
  },
  "language_info": {
   "codemirror_mode": {
    "name": "ipython",
    "version": 2
   },
   "file_extension": ".py",
   "mimetype": "text/x-python",
   "name": "python",
   "nbconvert_exporter": "python",
   "pygments_lexer": "ipython2",
   "version": "2.7.13"
  }
 },
 "nbformat": 4,
 "nbformat_minor": 2
}
