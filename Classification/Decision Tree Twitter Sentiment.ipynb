{
 "cells": [
  {
   "cell_type": "markdown",
   "metadata": {},
   "source": [
    "# Using Decision Trees Determine Twitter Sentiment\n",
    "As a project for my Knowledge Technologies class I was required to analyze a Twitter set and try to determine the sentiment of the tweets.\n",
    "\n",
    "The dataset contained over 30K labeled tweets. The scope of this project does not include feature engineering/selection so it was ommited. The main goal was to analyze the results of Decision Tree via its main metrics."
   ]
  },
  {
   "cell_type": "code",
   "execution_count": 1,
   "metadata": {
    "collapsed": true
   },
   "outputs": [],
   "source": [
    "import pandas as pd\n",
    "import numpy as np\n",
    "from sklearn import tree\n",
    "from main_metrics import main_metrics\n",
    "from sklearn import metrics\n",
    "from sklearn.metrics import confusion_matrix, roc_curve\n",
    "import matplotlib.pyplot as plt\n",
    "%matplotlib inline  "
   ]
  },
  {
   "cell_type": "code",
   "execution_count": 2,
   "metadata": {},
   "outputs": [],
   "source": [
    "train=pd.read_csv(r'path/to/file')\n",
    "dev=pd.read_csv('path/to/file')"
   ]
  },
  {
   "cell_type": "code",
   "execution_count": 3,
   "metadata": {},
   "outputs": [
    {
     "data": {
      "text/html": [
       "<div>\n",
       "<style>\n",
       "    .dataframe thead tr:only-child th {\n",
       "        text-align: right;\n",
       "    }\n",
       "\n",
       "    .dataframe thead th {\n",
       "        text-align: left;\n",
       "    }\n",
       "\n",
       "    .dataframe tbody tr th {\n",
       "        vertical-align: top;\n",
       "    }\n",
       "</style>\n",
       "<table border=\"1\" class=\"dataframe\">\n",
       "  <thead>\n",
       "    <tr style=\"text-align: right;\">\n",
       "      <th></th>\n",
       "      <th>id</th>\n",
       "      <th>a</th>\n",
       "      <th>amazing</th>\n",
       "      <th>antman</th>\n",
       "      <th>are</th>\n",
       "      <th>at</th>\n",
       "      <th>awesome</th>\n",
       "      <th>best</th>\n",
       "      <th>birthday</th>\n",
       "      <th>cant</th>\n",
       "      <th>...</th>\n",
       "      <th>see</th>\n",
       "      <th>shit</th>\n",
       "      <th>so</th>\n",
       "      <th>stupid</th>\n",
       "      <th>supremacists</th>\n",
       "      <th>th</th>\n",
       "      <th>they</th>\n",
       "      <th>tomorrow</th>\n",
       "      <th>trump</th>\n",
       "      <th>sentiment</th>\n",
       "    </tr>\n",
       "  </thead>\n",
       "  <tbody>\n",
       "    <tr>\n",
       "      <th>0</th>\n",
       "      <td>8.023340e+17</td>\n",
       "      <td>1</td>\n",
       "      <td>0</td>\n",
       "      <td>0</td>\n",
       "      <td>0</td>\n",
       "      <td>0</td>\n",
       "      <td>0</td>\n",
       "      <td>0</td>\n",
       "      <td>0</td>\n",
       "      <td>0</td>\n",
       "      <td>...</td>\n",
       "      <td>0</td>\n",
       "      <td>0</td>\n",
       "      <td>0</td>\n",
       "      <td>0</td>\n",
       "      <td>0</td>\n",
       "      <td>0</td>\n",
       "      <td>0</td>\n",
       "      <td>0</td>\n",
       "      <td>0</td>\n",
       "      <td>negative</td>\n",
       "    </tr>\n",
       "    <tr>\n",
       "      <th>1</th>\n",
       "      <td>6.247650e+17</td>\n",
       "      <td>0</td>\n",
       "      <td>0</td>\n",
       "      <td>0</td>\n",
       "      <td>1</td>\n",
       "      <td>0</td>\n",
       "      <td>0</td>\n",
       "      <td>0</td>\n",
       "      <td>0</td>\n",
       "      <td>0</td>\n",
       "      <td>...</td>\n",
       "      <td>0</td>\n",
       "      <td>0</td>\n",
       "      <td>0</td>\n",
       "      <td>0</td>\n",
       "      <td>0</td>\n",
       "      <td>0</td>\n",
       "      <td>0</td>\n",
       "      <td>0</td>\n",
       "      <td>0</td>\n",
       "      <td>positive</td>\n",
       "    </tr>\n",
       "    <tr>\n",
       "      <th>2</th>\n",
       "      <td>8.055830e+17</td>\n",
       "      <td>0</td>\n",
       "      <td>0</td>\n",
       "      <td>0</td>\n",
       "      <td>0</td>\n",
       "      <td>0</td>\n",
       "      <td>0</td>\n",
       "      <td>0</td>\n",
       "      <td>0</td>\n",
       "      <td>0</td>\n",
       "      <td>...</td>\n",
       "      <td>0</td>\n",
       "      <td>0</td>\n",
       "      <td>0</td>\n",
       "      <td>0</td>\n",
       "      <td>0</td>\n",
       "      <td>0</td>\n",
       "      <td>0</td>\n",
       "      <td>0</td>\n",
       "      <td>0</td>\n",
       "      <td>neutral</td>\n",
       "    </tr>\n",
       "    <tr>\n",
       "      <th>3</th>\n",
       "      <td>6.374800e+17</td>\n",
       "      <td>0</td>\n",
       "      <td>0</td>\n",
       "      <td>0</td>\n",
       "      <td>0</td>\n",
       "      <td>0</td>\n",
       "      <td>0</td>\n",
       "      <td>0</td>\n",
       "      <td>0</td>\n",
       "      <td>0</td>\n",
       "      <td>...</td>\n",
       "      <td>1</td>\n",
       "      <td>0</td>\n",
       "      <td>0</td>\n",
       "      <td>0</td>\n",
       "      <td>0</td>\n",
       "      <td>0</td>\n",
       "      <td>0</td>\n",
       "      <td>1</td>\n",
       "      <td>0</td>\n",
       "      <td>positive</td>\n",
       "    </tr>\n",
       "    <tr>\n",
       "      <th>4</th>\n",
       "      <td>6.410960e+17</td>\n",
       "      <td>0</td>\n",
       "      <td>0</td>\n",
       "      <td>0</td>\n",
       "      <td>0</td>\n",
       "      <td>0</td>\n",
       "      <td>0</td>\n",
       "      <td>0</td>\n",
       "      <td>0</td>\n",
       "      <td>0</td>\n",
       "      <td>...</td>\n",
       "      <td>0</td>\n",
       "      <td>0</td>\n",
       "      <td>0</td>\n",
       "      <td>0</td>\n",
       "      <td>0</td>\n",
       "      <td>1</td>\n",
       "      <td>0</td>\n",
       "      <td>0</td>\n",
       "      <td>0</td>\n",
       "      <td>neutral</td>\n",
       "    </tr>\n",
       "  </tbody>\n",
       "</table>\n",
       "<p>5 rows × 48 columns</p>\n",
       "</div>"
      ],
      "text/plain": [
       "             id  a  amazing  antman  are  at  awesome  best  birthday  cant  \\\n",
       "0  8.023340e+17  1        0       0    0   0        0     0         0     0   \n",
       "1  6.247650e+17  0        0       0    1   0        0     0         0     0   \n",
       "2  8.055830e+17  0        0       0    0   0        0     0         0     0   \n",
       "3  6.374800e+17  0        0       0    0   0        0     0         0     0   \n",
       "4  6.410960e+17  0        0       0    0   0        0     0         0     0   \n",
       "\n",
       "     ...      see  shit  so  stupid  supremacists  th  they  tomorrow  trump  \\\n",
       "0    ...        0     0   0       0             0   0     0         0      0   \n",
       "1    ...        0     0   0       0             0   0     0         0      0   \n",
       "2    ...        0     0   0       0             0   0     0         0      0   \n",
       "3    ...        1     0   0       0             0   0     0         1      0   \n",
       "4    ...        0     0   0       0             0   1     0         0      0   \n",
       "\n",
       "   sentiment  \n",
       "0   negative  \n",
       "1   positive  \n",
       "2    neutral  \n",
       "3   positive  \n",
       "4    neutral  \n",
       "\n",
       "[5 rows x 48 columns]"
      ]
     },
     "execution_count": 3,
     "metadata": {},
     "output_type": "execute_result"
    }
   ],
   "source": [
    "train.head()"
   ]
  },
  {
   "cell_type": "markdown",
   "metadata": {},
   "source": [
    "Remove the \"id\" column and separate the labels from the dataset"
   ]
  },
  {
   "cell_type": "code",
   "execution_count": 4,
   "metadata": {
    "collapsed": true
   },
   "outputs": [],
   "source": [
    "train_data=train[train.columns[1:-1]]\n",
    "train_target=train[train.columns[-1]]"
   ]
  },
  {
   "cell_type": "code",
   "execution_count": 5,
   "metadata": {
    "collapsed": true
   },
   "outputs": [],
   "source": [
    "dev_data=dev[dev.columns[1:-1]]\n",
    "dev_target=dev[dev.columns[-1]]"
   ]
  },
  {
   "cell_type": "markdown",
   "metadata": {},
   "source": [
    "Since overfitting is a special issue in Decision Trees, I want to determine the maximum depth of the tree before overfitting it."
   ]
  },
  {
   "cell_type": "code",
   "execution_count": 6,
   "metadata": {},
   "outputs": [],
   "source": [
    "comp=0\n",
    "acc1=[]\n",
    "acc12=[]\n",
    "itera=[]\n",
    "for i in range(3,50):\n",
    "    dt_tree=tree.DecisionTreeClassifier(max_depth=i)\n",
    "    model_dt=dt_tree.fit(train_data, train_target)\n",
    "    predictions_dt=model_dt.predict(dev_data)\n",
    "    predictions_dt2=model_dt.predict(train_data)\n",
    "    acc=(dev_target == predictions_dt).sum()/float(len(dev_target))*100\n",
    "    acc2=(train_target == predictions_dt2).sum()/float(len(train_target))*100\n",
    "    itera.append(i)\n",
    "    acc1.append(acc)\n",
    "    acc12.append(acc2)"
   ]
  },
  {
   "cell_type": "code",
   "execution_count": 7,
   "metadata": {},
   "outputs": [
    {
     "data": {
      "image/png": "[encoded data removed]",
      "text/plain": [
       "<matplotlib.figure.Figure at 0xc3acc88>"
      ]
     },
     "metadata": {},
     "output_type": "display_data"
    }
   ],
   "source": [
    "plt.plot(itera, acc1,label='Dev Target Accuracy')\n",
    "plt.plot(itera, acc12,label='Train Target Accuracy')\n",
    "plt.ylabel('Accuracy Rate')\n",
    "plt.xlabel('Max Depth')\n",
    "plt.title('Tree Depth vs Accruacy')\n",
    "plt.legend()\n",
    "plt.rcParams[\"figure.figsize\"] = (10,5)\n",
    "plt.show()"
   ]
  },
  {
   "cell_type": "code",
   "execution_count": 8,
   "metadata": {},
   "outputs": [],
   "source": [
    "dt_tree=tree.DecisionTreeClassifier(max_depth=10)\n",
    "model_dt=dt_tree.fit(train_data, train_target)\n",
    "predictions_dt=model_dt.predict(dev_data)"
   ]
  },
  {
   "cell_type": "code",
   "execution_count": 9,
   "metadata": {},
   "outputs": [
    {
     "name": "stdout",
     "output_type": "stream",
     "text": [
      "[[ 505   22  961]\n",
      " [  82   62  894]\n",
      " [ 201   53 2146]]\n"
     ]
    }
   ],
   "source": [
    "cm=confusion_matrix(dev_target,predictions_dt,labels=['positive','negative','neutral'])\n",
    "print cm"
   ]
  },
  {
   "cell_type": "markdown",
   "metadata": {},
   "source": [
    "Calculate the accuracy as a guide, not as a correct metric of performance"
   ]
  },
  {
   "cell_type": "code",
   "execution_count": 10,
   "metadata": {},
   "outputs": [
    {
     "name": "stdout",
     "output_type": "stream",
     "text": [
      "55%\n"
     ]
    }
   ],
   "source": [
    "print '{0:.0f}%'.format((dev_target == predictions_dt).sum()/float(len(dev_target))*100)"
   ]
  },
  {
   "cell_type": "code",
   "execution_count": 11,
   "metadata": {
    "collapsed": true
   },
   "outputs": [],
   "source": [
    "def labels(x):\n",
    "    if x=='positive':\n",
    "        return 1\n",
    "    elif x=='negative':\n",
    "        return -1\n",
    "    else:\n",
    "        return 0"
   ]
  },
  {
   "cell_type": "code",
   "execution_count": 12,
   "metadata": {},
   "outputs": [],
   "source": [
    "dev_targ_lbls=[]\n",
    "y_pred_lbls=[]\n",
    "for i in range(len(dev_target)):\n",
    "    dev_targ_lbls.append(labels(dev_target[i]))\n",
    "    y_pred_lbls.append(labels(predictions_dt[i]))"
   ]
  },
  {
   "cell_type": "code",
   "execution_count": 13,
   "metadata": {},
   "outputs": [
    {
     "data": {
      "image/png": "[encoded data removed]",
      "text/plain": [
       "<matplotlib.figure.Figure at 0xc314748>"
      ]
     },
     "metadata": {},
     "output_type": "display_data"
    },
    {
     "name": "stdout",
     "output_type": "stream",
     "text": [
      "AUC 63%\n"
     ]
    }
   ],
   "source": [
    "fpr_dt_pos, tpr_dt_pos, thresholds = roc_curve(dev_targ_lbls, y_pred_lbls, pos_label=1)\n",
    "plt.plot(fpr_dt_pos, tpr_dt_pos)\n",
    "plt.ylabel('True Positive Rate')\n",
    "plt.xlabel('False Positive Rate')\n",
    "plt.title('Positive Class ROC Curve')\n",
    "#plt.rcParams[\"figure.figsize\"] = (7,7)\n",
    "plt.show()\n",
    "print \"AUC\",'{0:.0f}%'.format(metrics.auc(fpr_dt_pos, tpr_dt_pos)*100)"
   ]
  },
  {
   "cell_type": "code",
   "execution_count": 14,
   "metadata": {},
   "outputs": [
    {
     "data": {
      "image/png": "[encoded data removed]",
      "text/plain": [
       "<matplotlib.figure.Figure at 0xc0d6b38>"
      ]
     },
     "metadata": {},
     "output_type": "display_data"
    },
    {
     "name": "stdout",
     "output_type": "stream",
     "text": [
      "AUC 43%\n"
     ]
    }
   ],
   "source": [
    "fpr_dt_neu, tpr_dt_neu, thresholds = roc_curve(dev_targ_lbls, y_pred_lbls, pos_label=0)\n",
    "plt.plot(fpr_dt_neu, tpr_dt_neu)\n",
    "plt.ylabel('True Positive Rate')\n",
    "plt.xlabel('False Positive Rate')\n",
    "plt.title('Neutral Class ROC Curve')\n",
    "plt.show()\n",
    "print \"AUC\",'{0:.0f}%'.format(metrics.auc(fpr_dt_neu, tpr_dt_neu)*100)"
   ]
  },
  {
   "cell_type": "code",
   "execution_count": 15,
   "metadata": {},
   "outputs": [
    {
     "data": {
      "image/png": "[encoded data removed]",
      "text/plain": [
       "<matplotlib.figure.Figure at 0xca1c198>"
      ]
     },
     "metadata": {},
     "output_type": "display_data"
    },
    {
     "name": "stdout",
     "output_type": "stream",
     "text": [
      "AUC 43%\n"
     ]
    }
   ],
   "source": [
    "fpr_dt_neg, tpr_dt_neg, thresholds = roc_curve(dev_targ_lbls, y_pred_lbls, pos_label=-1)\n",
    "plt.plot(fpr_dt_neg, tpr_dt_neg)\n",
    "plt.ylabel('True Positive Rate')\n",
    "plt.xlabel('False Positive Rate')\n",
    "plt.title('Negative Class ROC Curve')\n",
    "plt.show()\n",
    "print \"AUC\",'{0:.0f}%'.format(metrics.auc(fpr_dt_neg, tpr_dt_neg)*100)"
   ]
  },
  {
   "cell_type": "code",
   "execution_count": 16,
   "metadata": {},
   "outputs": [
    {
     "name": "stdout",
     "output_type": "stream",
     "text": [
      "        negative      neutral     positive\n",
      "FP     75.000000  1855.000000   283.000000\n",
      "FN    976.000000   254.000000   983.000000\n",
      "TP     62.000000  2146.000000   505.000000\n",
      "TN   3813.000000   671.000000  3155.000000\n",
      "TPR     0.059730     0.894167     0.339382\n",
      "TNR     0.980710     0.265637     0.917685\n",
      "PPV     0.452555     0.536366     0.640863\n",
      "NPV     0.796200     0.725405     0.762446\n",
      "FPR     0.019290     0.734363     0.082315\n",
      "FNR     0.940270     0.105833     0.660618\n",
      "FDR     0.547445     0.463634     0.359137\n",
      "ACC     0.786642     0.571864     0.742996\n"
     ]
    }
   ],
   "source": [
    "df=main_metrics(cm,['positive','negative','neutral'])\n",
    "print df"
   ]
  },
  {
   "cell_type": "code",
   "execution_count": null,
   "metadata": {
    "collapsed": true
   },
   "outputs": [],
   "source": []
  }
 ],
 "metadata": {
  "kernelspec": {
   "display_name": "Python 2",
   "language": "python",
   "name": "python2"
  },
  "language_info": {
   "codemirror_mode": {
    "name": "ipython",
    "version": 2
   },
   "file_extension": ".py",
   "mimetype": "text/x-python",
   "name": "python",
   "nbconvert_exporter": "python",
   "pygments_lexer": "ipython2",
   "version": "2.7.13"
  }
 },
 "nbformat": 4,
 "nbformat_minor": 2
}
