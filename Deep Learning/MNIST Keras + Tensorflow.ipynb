{
 "cells": [
  {
   "cell_type": "markdown",
   "metadata": {},
   "source": [
    "# MNIST Using Tensorflow + Keras"
   ]
  },
  {
   "cell_type": "code",
   "execution_count": 19,
   "metadata": {},
   "outputs": [
    {
     "name": "stderr",
     "output_type": "stream",
     "text": [
      "Using TensorFlow backend.\n"
     ]
    }
   ],
   "source": [
    "from keras.models import Sequential\n",
    "from keras.layers import Dense, Dropout, Activation, Flatten\n",
    "from keras.optimizers import Adam\n",
    "from keras.layers.normalization import BatchNormalization\n",
    "from keras.utils import np_utils\n",
    "from keras.layers import Conv2D, MaxPooling2D\n",
    "from keras.preprocessing.image import ImageDataGenerator\n",
    "from keras.utils import np_utils\n",
    "import keras\n",
    "\n",
    "import numpy as np\n",
    "%matplotlib inline"
   ]
  },
  {
   "cell_type": "code",
   "execution_count": 20,
   "metadata": {
    "collapsed": true
   },
   "outputs": [],
   "source": [
    "# Data Load\n",
    "x_minst = np.load('train_X.npy')\n",
    "y_minst = np.load('train_y.npy')\n",
    "kaggle_test = np.load('test_X.npy')"
   ]
  },
  {
   "cell_type": "code",
   "execution_count": 21,
   "metadata": {
    "collapsed": true
   },
   "outputs": [],
   "source": [
    "from sklearn.model_selection import train_test_split\n",
    "# Train Dataset\n",
    "x_train_mnist, x_test_mnist, y_train_mnist, y_test_mnist = train_test_split(x_minst, y_minst, test_size=0.20, random_state=0)"
   ]
  },
  {
   "cell_type": "code",
   "execution_count": 22,
   "metadata": {
    "collapsed": true
   },
   "outputs": [],
   "source": [
    "# Data Shape Change\n",
    "x_train_mnst_4d = x_train_mnist.reshape(x_train_mnist.shape[0], 64, 64, 1)\n",
    "x_test_mnst_4d = x_test_mnist.reshape(x_test_mnist.shape[0], 64, 64, 1)"
   ]
  },
  {
   "cell_type": "code",
   "execution_count": 23,
   "metadata": {},
   "outputs": [
    {
     "name": "stdout",
     "output_type": "stream",
     "text": [
      "x_train shape: (28000, 64, 64, 1)\n",
      "28000 train samples\n",
      "7000 test samples\n"
     ]
    }
   ],
   "source": [
    "x_train_mnst_4d = x_train_mnst_4d.astype('float32')\n",
    "x_test_mnst_4d = x_test_mnst_4d.astype('float32')\n",
    "x_train_mnst_4d /= 255.\n",
    "x_test_mnst_4d /= 255.\n",
    "print('x_train shape:', x_train_mnst_4d.shape)\n",
    "print(x_train_mnst_4d.shape[0], 'train samples')\n",
    "print(x_test_mnst_4d.shape[0], 'test samples')"
   ]
  },
  {
   "cell_type": "code",
   "execution_count": 24,
   "metadata": {
    "collapsed": true
   },
   "outputs": [],
   "source": [
    "# convert class vectors to binary class matrices\n",
    "y_train = keras.utils.to_categorical(y_train_mnist, 10)\n",
    "y_test = keras.utils.to_categorical(y_test_mnist, 10)\n",
    "input_shape = (64, 64, 1)"
   ]
  },
  {
   "cell_type": "code",
   "execution_count": 25,
   "metadata": {
    "collapsed": true
   },
   "outputs": [],
   "source": [
    "model = Sequential()\n",
    "# First Layer\n",
    "model.add(Conv2D(32, (3, 3), input_shape=input_shape))\n",
    "BatchNormalization(axis=-1) # To normalize the activations\n",
    "model.add(Activation('relu'))\n",
    "# Second Layer\n",
    "model.add(Conv2D(32, (3, 3)))\n",
    "BatchNormalization(axis=-1)\n",
    "model.add(Activation('relu'))\n",
    "# Third Layer\n",
    "model.add(MaxPooling2D(pool_size=(2,2)))\n",
    "model.add(Conv2D(64,(3, 3)))\n",
    "BatchNormalization(axis=-1)\n",
    "model.add(Activation('relu'))\n",
    "model.add(Conv2D(64, (3, 3)))\n",
    "BatchNormalization(axis=-1)\n",
    "model.add(Activation('relu'))\n",
    "model.add(MaxPooling2D(pool_size=(2,2)))\n",
    "\n",
    "model.add(Flatten())\n",
    "\n",
    "# Fully connected layer\n",
    "model.add(Dense(512))\n",
    "BatchNormalization()\n",
    "model.add(Activation('relu'))\n",
    "model.add(Dropout(0.25))\n",
    "model.add(Dense(10))\n",
    "\n",
    "model.add(Activation('softmax'))"
   ]
  },
  {
   "cell_type": "code",
   "execution_count": 26,
   "metadata": {
    "collapsed": true
   },
   "outputs": [],
   "source": [
    "model.compile(loss='categorical_crossentropy', optimizer=Adam(), metrics=['accuracy'])"
   ]
  },
  {
   "cell_type": "code",
   "execution_count": 30,
   "metadata": {
    "collapsed": true
   },
   "outputs": [],
   "source": [
    "train_data_shuffle = ImageDataGenerator(rotation_range=10, width_shift_range=0.1, shear_range=0.4,height_shift_range=0.1, zoom_range=0.1)\n",
    "test_data_shuffle = ImageDataGenerator()"
   ]
  },
  {
   "cell_type": "code",
   "execution_count": 31,
   "metadata": {
    "collapsed": true
   },
   "outputs": [],
   "source": [
    "train_generator = train_data_shuffle.flow(x_train_mnst_4d, y_train, batch_size=64)\n",
    "test_generator = test_data_shuffle.flow(x_test_mnst_4d, y_test, batch_size=64)"
   ]
  },
  {
   "cell_type": "code",
   "execution_count": 32,
   "metadata": {},
   "outputs": [
    {
     "data": {
      "text/plain": [
       "(7000, 64, 64, 1)"
      ]
     },
     "execution_count": 32,
     "metadata": {},
     "output_type": "execute_result"
    }
   ],
   "source": [
    "# Let's see how it looks\n",
    "x_test_mnst_4d.shape"
   ]
  },
  {
   "cell_type": "code",
   "execution_count": 33,
   "metadata": {
    "scrolled": true
   },
   "outputs": [
    {
     "name": "stdout",
     "output_type": "stream",
     "text": [
      "Epoch 1/6\n",
      "437/437 [==============================] - 413s - loss: 0.6617 - acc: 0.7933 - val_loss: 0.1440 - val_acc: 0.9586\n",
      "Epoch 2/6\n",
      "437/437 [==============================] - 395s - loss: 0.2611 - acc: 0.9256 - val_loss: 0.1198 - val_acc: 0.9674\n",
      "Epoch 3/6\n",
      "437/437 [==============================] - 391s - loss: 0.2031 - acc: 0.9426 - val_loss: 0.1142 - val_acc: 0.9704\n",
      "Epoch 4/6\n",
      "437/437 [==============================] - 403s - loss: 0.1798 - acc: 0.9476 - val_loss: 0.0984 - val_acc: 0.9748\n",
      "Epoch 5/6\n",
      "437/437 [==============================] - 398s - loss: 0.1553 - acc: 0.9549 - val_loss: 0.0940 - val_acc: 0.9749\n",
      "Epoch 6/6\n",
      "437/437 [==============================] - 420s - loss: 0.1431 - acc: 0.9588 - val_loss: 0.0879 - val_acc: 0.9808\n"
     ]
    },
    {
     "data": {
      "text/plain": [
       "<keras.callbacks.History at 0x264eb646278>"
      ]
     },
     "execution_count": 33,
     "metadata": {},
     "output_type": "execute_result"
    }
   ],
   "source": [
    "model.fit_generator(train_generator, steps_per_epoch=28000//64, epochs=6,\n",
    "                    validation_data=test_generator, validation_steps=7000//64)"
   ]
  },
  {
   "cell_type": "code",
   "execution_count": 37,
   "metadata": {},
   "outputs": [
    {
     "name": "stdout",
     "output_type": "stream",
     "text": [
      "Test loss: 0.0817177257022\n",
      "Test accuracy: 0.980142857075\n"
     ]
    }
   ],
   "source": [
    "score = model.evaluate(x_test_mnst_4d, y_test, verbose=0)\n",
    "print('Test loss:', score[0])\n",
    "print('Test accuracy:', score[1])"
   ]
  },
  {
   "cell_type": "code",
   "execution_count": 34,
   "metadata": {
    "collapsed": true
   },
   "outputs": [],
   "source": [
    "kaggle_test_4d = kaggle_test.reshape(kaggle_test.shape[0], 64, 64, 1)\n",
    "kaggle_test_4d = kaggle_test_4d.astype('float32')\n",
    "kaggle_test_4d /= 255"
   ]
  },
  {
   "cell_type": "code",
   "execution_count": 35,
   "metadata": {},
   "outputs": [
    {
     "name": "stdout",
     "output_type": "stream",
     "text": [
      "500/500 [==============================] - 1s     \n"
     ]
    }
   ],
   "source": [
    "pred = model.predict_classes(kaggle_test_4d)"
   ]
  }
 ],
 "metadata": {
  "anaconda-cloud": {},
  "kernelspec": {
   "display_name": "Python 3",
   "language": "python",
   "name": "python3"
  },
  "language_info": {
   "codemirror_mode": {
    "name": "ipython",
    "version": 3
   },
   "file_extension": ".py",
   "mimetype": "text/x-python",
   "name": "python",
   "nbconvert_exporter": "python",
   "pygments_lexer": "ipython3",
   "version": "3.6.1"
  }
 },
 "nbformat": 4,
 "nbformat_minor": 1
}
